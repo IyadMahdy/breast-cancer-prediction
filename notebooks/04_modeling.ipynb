{
 "cells": [
  {
   "cell_type": "markdown",
   "id": "98c8571b",
   "metadata": {},
   "source": [
    "# Importing Libraries"
   ]
  },
  {
   "cell_type": "code",
   "execution_count": 27,
   "id": "828fd483",
   "metadata": {},
   "outputs": [],
   "source": [
    "# Data Manipulation\n",
    "import pandas as pd\n",
    "import numpy as np\n",
    "\n",
    "# Visualization\n",
    "import matplotlib.pyplot as plt\n",
    "import seaborn as sns\n",
    "\n",
    "# Models\n",
    "from sklearn.linear_model import LogisticRegression\n",
    "from sklearn.svm import SVC\n",
    "from sklearn.ensemble import RandomForestClassifier\n",
    "\n",
    "# Model Selection\n",
    "from sklearn.model_selection import cross_val_score, StratifiedKFold, GridSearchCV\n",
    "\n",
    "# Evaluation\n",
    "from sklearn.metrics import confusion_matrix, ConfusionMatrixDisplay, classification_report, roc_auc_score"
   ]
  },
  {
   "cell_type": "markdown",
   "id": "e433a1bf",
   "metadata": {},
   "source": [
    "# Loading Data"
   ]
  },
  {
   "cell_type": "code",
   "execution_count": 31,
   "id": "d754139f",
   "metadata": {},
   "outputs": [],
   "source": [
    "df = pd.read_csv('../data/final/data_reduced.csv')\n",
    "\n",
    "train_df = df[df['split'] == 'train']\n",
    "test_df = df[df['split'] == 'test']\n",
    "\n",
    "X_train = train_df.drop(columns=['target', 'split'])\n",
    "y_train = train_df['target']\n",
    "\n",
    "X_test = test_df.drop(columns=['target', 'split'])\n",
    "y_test = test_df['target']"
   ]
  },
  {
   "cell_type": "markdown",
   "id": "f356cbeb",
   "metadata": {},
   "source": [
    "# Model Definition"
   ]
  },
  {
   "cell_type": "code",
   "execution_count": 32,
   "id": "7512bd80",
   "metadata": {},
   "outputs": [],
   "source": [
    "models = {\n",
    "  'Logistic Regression': LogisticRegression(),\n",
    "  'SVM': SVC(),\n",
    "  'Random Forest': RandomForestClassifier()\n",
    "}"
   ]
  },
  {
   "cell_type": "markdown",
   "id": "9bbc13ab",
   "metadata": {},
   "source": [
    "# Model Testing"
   ]
  },
  {
   "cell_type": "code",
   "execution_count": 33,
   "id": "fbb46b02",
   "metadata": {},
   "outputs": [
    {
     "name": "stdout",
     "output_type": "stream",
     "text": [
      "Logistic Regression: Average F1 = 0.952 ± 0.019\n",
      "SVM: Average F1 = 0.955 ± 0.025\n",
      "Random Forest: Average F1 = 0.925 ± 0.022\n"
     ]
    }
   ],
   "source": [
    "cv = StratifiedKFold(n_splits=5, shuffle=True, random_state=42)\n",
    "\n",
    "for name, model in models.items():\n",
    "  cv_scores = cross_val_score(model, X_train, y_train, cv=cv, scoring='f1')\n",
    "  print(f\"{name}: Average F1 = {cv_scores.mean():.3f} ± {cv_scores.std():.3f}\")"
   ]
  },
  {
   "cell_type": "markdown",
   "id": "67e3b0f9",
   "metadata": {},
   "source": [
    "# Model Tuning"
   ]
  },
  {
   "cell_type": "code",
   "execution_count": 34,
   "id": "042dcc94",
   "metadata": {},
   "outputs": [],
   "source": [
    "param_grids = {\n",
    "    \"Logistic Regression\": {\n",
    "        \"C\": [0.01, 0.1, 1, 10, 100],\n",
    "        \"solver\": [\"liblinear\", \"lbfgs\"],\n",
    "        \"penalty\": [\"l2\"],  # 'l1' can be added if using 'liblinear'\n",
    "        \"max_iter\": [1000]\n",
    "    },\n",
    "    \"SVM\": {\n",
    "        \"C\": [0.1, 1, 10],\n",
    "        \"kernel\": [\"linear\", \"rbf\", \"poly\"],\n",
    "        \"gamma\": [\"scale\", \"auto\"]\n",
    "    }\n",
    "}"
   ]
  },
  {
   "cell_type": "code",
   "execution_count": 35,
   "id": "8fda7838",
   "metadata": {},
   "outputs": [
    {
     "name": "stdout",
     "output_type": "stream",
     "text": [
      "🔍 Tuning Logistic Regression ...\n",
      "Fitting 5 folds for each of 10 candidates, totalling 50 fits\n",
      "✅ Logistic Regression done. Best F1: 0.959\n",
      "🔍 Tuning SVM ...\n",
      "Fitting 5 folds for each of 18 candidates, totalling 90 fits\n",
      "✅ SVM done. Best F1: 0.955\n"
     ]
    }
   ],
   "source": [
    "best_models = {}\n",
    "results = []\n",
    "\n",
    "for name, params in param_grids.items():\n",
    "    print(f\"🔍 Tuning {name} ...\")\n",
    "    \n",
    "    if name == \"Logistic Regression\":\n",
    "        model = LogisticRegression(random_state=42)\n",
    "    else:\n",
    "        model = SVC(probability=True, random_state=42)\n",
    "    \n",
    "    grid = GridSearchCV(\n",
    "        estimator=model,\n",
    "        param_grid=params,\n",
    "        cv=cv,\n",
    "        scoring=\"f1\",\n",
    "        n_jobs=-1,\n",
    "        verbose=1\n",
    "    )\n",
    "    grid.fit(X_train, y_train)\n",
    "    \n",
    "    best_models[name] = grid.best_estimator_\n",
    "    \n",
    "    results.append({\n",
    "        \"Model\": name,\n",
    "        \"Best Params\": grid.best_params_,\n",
    "        \"Best CV F1\": grid.best_score_\n",
    "    })\n",
    "    \n",
    "    print(f\"✅ {name} done. Best F1: {grid.best_score_:.3f}\")\n"
   ]
  },
  {
   "cell_type": "code",
   "execution_count": 36,
   "id": "3e34c24a",
   "metadata": {},
   "outputs": [
    {
     "data": {
      "application/vnd.microsoft.datawrangler.viewer.v0+json": {
       "columns": [
        {
         "name": "index",
         "rawType": "int64",
         "type": "integer"
        },
        {
         "name": "Model",
         "rawType": "object",
         "type": "string"
        },
        {
         "name": "Best Params",
         "rawType": "object",
         "type": "unknown"
        },
        {
         "name": "Best CV F1",
         "rawType": "float64",
         "type": "float"
        }
       ],
       "ref": "c2a98848-1ff4-4413-9cc7-66b60a94a579",
       "rows": [
        [
         "0",
         "Logistic Regression",
         "{'C': 0.1, 'max_iter': 1000, 'penalty': 'l2', 'solver': 'liblinear'}",
         "0.958821630347054"
        ],
        [
         "1",
         "SVM",
         "{'C': 1, 'gamma': 'scale', 'kernel': 'linear'}",
         "0.9552813852813854"
        ]
       ],
       "shape": {
        "columns": 3,
        "rows": 2
       }
      },
      "text/html": [
       "<div>\n",
       "<style scoped>\n",
       "    .dataframe tbody tr th:only-of-type {\n",
       "        vertical-align: middle;\n",
       "    }\n",
       "\n",
       "    .dataframe tbody tr th {\n",
       "        vertical-align: top;\n",
       "    }\n",
       "\n",
       "    .dataframe thead th {\n",
       "        text-align: right;\n",
       "    }\n",
       "</style>\n",
       "<table border=\"1\" class=\"dataframe\">\n",
       "  <thead>\n",
       "    <tr style=\"text-align: right;\">\n",
       "      <th></th>\n",
       "      <th>Model</th>\n",
       "      <th>Best Params</th>\n",
       "      <th>Best CV F1</th>\n",
       "    </tr>\n",
       "  </thead>\n",
       "  <tbody>\n",
       "    <tr>\n",
       "      <th>0</th>\n",
       "      <td>Logistic Regression</td>\n",
       "      <td>{'C': 0.1, 'max_iter': 1000, 'penalty': 'l2', ...</td>\n",
       "      <td>0.958822</td>\n",
       "    </tr>\n",
       "    <tr>\n",
       "      <th>1</th>\n",
       "      <td>SVM</td>\n",
       "      <td>{'C': 1, 'gamma': 'scale', 'kernel': 'linear'}</td>\n",
       "      <td>0.955281</td>\n",
       "    </tr>\n",
       "  </tbody>\n",
       "</table>\n",
       "</div>"
      ],
      "text/plain": [
       "                 Model                                        Best Params  \\\n",
       "0  Logistic Regression  {'C': 0.1, 'max_iter': 1000, 'penalty': 'l2', ...   \n",
       "1                  SVM     {'C': 1, 'gamma': 'scale', 'kernel': 'linear'}   \n",
       "\n",
       "   Best CV F1  \n",
       "0    0.958822  \n",
       "1    0.955281  "
      ]
     },
     "execution_count": 36,
     "metadata": {},
     "output_type": "execute_result"
    }
   ],
   "source": [
    "results_df = pd.DataFrame(results)\n",
    "results_df.sort_values(by=\"Best CV F1\", ascending=False, inplace=True)\n",
    "results_df"
   ]
  },
  {
   "cell_type": "code",
   "execution_count": 37,
   "id": "85631ae6",
   "metadata": {},
   "outputs": [],
   "source": [
    "best_model = best_models['Logistic Regression']"
   ]
  },
  {
   "cell_type": "markdown",
   "id": "159e709b",
   "metadata": {},
   "source": [
    "# Final Evaluation"
   ]
  },
  {
   "cell_type": "code",
   "execution_count": 38,
   "id": "985f497b",
   "metadata": {},
   "outputs": [],
   "source": [
    "best_model.fit(X_train, y_train)\n",
    "\n",
    "y_pred = best_model.predict(X_test)"
   ]
  },
  {
   "cell_type": "code",
   "execution_count": 40,
   "id": "4217b5de",
   "metadata": {},
   "outputs": [
    {
     "name": "stdout",
     "output_type": "stream",
     "text": [
      "              precision    recall  f1-score   support\n",
      "\n",
      "           0       0.95      0.99      0.97       107\n",
      "           1       0.98      0.92      0.95        64\n",
      "\n",
      "    accuracy                           0.96       171\n",
      "   macro avg       0.97      0.96      0.96       171\n",
      "weighted avg       0.97      0.96      0.96       171\n",
      "\n"
     ]
    }
   ],
   "source": [
    "print(classification_report(y_test, y_pred))"
   ]
  },
  {
   "cell_type": "code",
   "execution_count": 43,
   "id": "eca9457e",
   "metadata": {},
   "outputs": [
    {
     "data": {
      "image/png": "[encoded data removed]",
      "text/plain": [
       "<Figure size 640x480 with 2 Axes>"
      ]
     },
     "metadata": {},
     "output_type": "display_data"
    }
   ],
   "source": [
    "ConfusionMatrixDisplay(confusion_matrix(y_test, y_pred), display_labels=('Benign', 'Malignant')).plot()\n",
    "plt.title(f'Confusion Matrix - {best_model}')\n",
    "plt.show()"
   ]
  }
 ],
 "metadata": {
  "kernelspec": {
   "display_name": "breast-cancer-prediction",
   "language": "python",
   "name": "python3"
  },
  "language_info": {
   "codemirror_mode": {
    "name": "ipython",
    "version": 3
   },
   "file_extension": ".py",
   "mimetype": "text/x-python",
   "name": "python",
   "nbconvert_exporter": "python",
   "pygments_lexer": "ipython3",
   "version": "3.11.9"
  }
 },
 "nbformat": 4,
 "nbformat_minor": 5
}
